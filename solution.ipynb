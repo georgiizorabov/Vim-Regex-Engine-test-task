{
 "cells": [
  {
   "cell_type": "markdown",
   "id": "8f2fe3bf",
   "metadata": {},
   "source": [
    "## task 1"
   ]
  },
  {
   "cell_type": "markdown",
   "id": "a8d742b2",
   "metadata": {},
   "source": [
    "Vim was an interesting thing for me during my whole programming life and I was delighted by people that use it on daily basis so it will be a pleasure to work on something connected to it. I am ready to learn new things quickly and get new experiences from mentors and people from the industry.\n",
    "\n",
    "\n",
    "I satisfy the requirements because I had a bit of expirience with vim and now trying to improve my skills. I had a formal languages and grammatics course last year and taking another automata course this year, I have pretty big experience with regexps from university courses and everyday life. Also, I am finishing the Kotlin course right now and planning to go to Advanced Kotlin next semester, also I had a second year semester Kotlin project. \n",
    "    \n",
    "Some thoughts about implementing the project.\n",
    "\n",
    "Firstly I will have to do some research to choose most appropriate alogithms for this task (I know a few of them already but I will find another ones to compare), then implement the engine.  "
   ]
  },
  {
   "cell_type": "markdown",
   "id": "3bfa28a8",
   "metadata": {},
   "source": [
    "## task 2"
   ]
  },
  {
   "cell_type": "markdown",
   "id": "ef4116a9",
   "metadata": {},
   "source": [
    "**dd** -- in command mode snads for deleting a line\n",
    "\n",
    "**j** -- in command mode move cursor down\n",
    "\n",
    "**v** -- in command mode enter visual mode (marking symbols)\n",
    "\n",
    "**i** -- in command mode enter insert mode\n",
    "\n",
    "**esc** -- in insert mode enter command mode"
   ]
  },
  {
   "cell_type": "markdown",
   "id": "5f01d80d",
   "metadata": {},
   "source": [
    "## task 3"
   ]
  },
  {
   "cell_type": "markdown",
   "id": "e13abf52",
   "metadata": {},
   "source": [
    "^file_[a-zA-Z\\-]*.pdf$"
   ]
  },
  {
   "cell_type": "markdown",
   "id": "20972910",
   "metadata": {},
   "source": [
    "## task 4\n"
   ]
  },
  {
   "cell_type": "markdown",
   "id": "0c31311c",
   "metadata": {},
   "source": [
    "с++: preprocessing (e.g. pasting macroses and includes) -> lexer -> parser -> execute\n",
    "\n",
    "java: lexer -> parser -> translating into bytecode -> class loading -> JIT -> execute"
   ]
  },
  {
   "cell_type": "markdown",
   "id": "31c3a67f",
   "metadata": {},
   "source": [
    "## task 5\n"
   ]
  },
  {
   "cell_type": "markdown",
   "id": "3102233a",
   "metadata": {},
   "source": [
    "![title](automata.png)"
   ]
  },
  {
   "cell_type": "markdown",
   "id": "dc3b8c9d",
   "metadata": {},
   "source": [
    "## task 6\n"
   ]
  },
  {
   "cell_type": "markdown",
   "id": "31539dc6",
   "metadata": {},
   "source": [
    "vim regexp engine"
   ]
  },
  {
   "cell_type": "markdown",
   "id": "3fd29a57",
   "metadata": {},
   "source": [
    "## task 7"
   ]
  },
  {
   "cell_type": "code",
   "execution_count": null,
   "id": "c472ba60",
   "metadata": {},
   "outputs": [],
   "source": [
    "ast -> DFA/NFA (e.g. McNaughton-Yamada-thompson algorithm)"
   ]
  },
  {
   "cell_type": "markdown",
   "id": "dcecd161",
   "metadata": {},
   "source": [
    "## task 8"
   ]
  },
  {
   "cell_type": "markdown",
   "id": "c54b3d85",
   "metadata": {},
   "source": [
    "It can be used with Java Native Interface. Shortly, we have to create native method, generate header files to let java know where and what to look for so it can be linked together."
   ]
  }
 ],
 "metadata": {
  "kernelspec": {
   "display_name": "Python 3 (ipykernel)",
   "language": "python",
   "name": "python3"
  },
  "language_info": {
   "codemirror_mode": {
    "name": "ipython",
    "version": 3
   },
   "file_extension": ".py",
   "mimetype": "text/x-python",
   "name": "python",
   "nbconvert_exporter": "python",
   "pygments_lexer": "ipython3",
   "version": "3.8.10"
  }
 },
 "nbformat": 4,
 "nbformat_minor": 5
}
